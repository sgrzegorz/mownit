{
 "cells": [
  {
   "cell_type": "code",
   "execution_count": 5,
   "metadata": {},
   "outputs": [
    {
     "data": {
      "text/html": [
       "&#45;8.934150012742387e-5 &#43; 3.714472341582979e-5&#8729;x &#45; 4.064542427389344e-7&#8729;x^2 &#43; 2.4113890875402656e-8&#8729;x^3"
      ],
      "text/latex": [
       "$-8.934150012742387e-5 + 3.714472341582979e-5\\cdot x - 4.064542427389344e-7\\cdot x^{2} + 2.4113890875402656e-8\\cdot x^{3}$"
      ],
      "text/plain": [
       "Poly(-8.934150012742387e-5 + 3.714472341582979e-5*x - 4.064542427389344e-7*x^2 + 2.4113890875402656e-8*x^3)"
      ]
     },
     "metadata": {},
     "output_type": "display_data"
    },
    {
     "name": "stdout",
     "output_type": "stream",
     "text": [
      "[-8.93415e-5, 3.71447e-5, -4.06454e-7, 2.41139e-8]\n",
      "As we can observe the coefficients are the same.\n"
     ]
    }
   ],
   "source": [
    "using CSV\n",
    "using Plots\n",
    "using Polynomials\n",
    "using Statistics\n",
    "using(LinearAlgebra)\n",
    "using Distributions\n",
    "using Printf\n",
    "using DataFrames\n",
    "\n",
    "\n",
    "data =CSV.read(\"optimalised.csv\",delim=\";\")\n",
    "points = by(data, :sizes, val = :naive =>x->mean(x))\n",
    "\n",
    "display(polyfit(points.sizes,points.val,3))\n",
    "A = ones(size(points,1),4)\n",
    "A[:,1] = points.sizes.^3\n",
    "A[:,2] = points.sizes.^2\n",
    "A[:,3] = points.sizes\n",
    "\n",
    "AF =factorize(A)\n",
    "result = AF.R\\((Transpose(AF.Q)*points.val)[1:4])\n",
    "\n",
    "println(reverse(result))\n",
    "println(\"As we can observe the coefficients are the same.\")"
   ]
  }
 ],
 "metadata": {
  "kernelspec": {
   "display_name": "Julia 1.1.0",
   "language": "julia",
   "name": "julia-1.1"
  },
  "language_info": {
   "file_extension": ".jl",
   "mimetype": "application/julia",
   "name": "julia",
   "version": "1.1.0"
  }
 },
 "nbformat": 4,
 "nbformat_minor": 2
}
