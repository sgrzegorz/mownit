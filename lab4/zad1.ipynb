{
 "cells": [
  {
   "cell_type": "code",
   "execution_count": 21,
   "metadata": {},
   "outputs": [
    {
     "name": "stdout",
     "output_type": "stream",
     "text": [
      "Quality inv(A)*b: 1.743107e-10 \n",
      "Quality A\\b: 4.694526e-11 \n",
      "Quality factorize: 4.694526e-11 \n",
      "Time inv(A)*b: 9.865069e-02 \n",
      "Time A\\b: 2.532914e-02 \n",
      "Time factorize: 7.776588e-04 \n"
     ]
    }
   ],
   "source": [
    "using CSV\n",
    "using Plots\n",
    "using Polynomials\n",
    "using Statistics\n",
    "using(LinearAlgebra)\n",
    "using Distributions\n",
    "using Printf\n",
    "\n",
    "x = rand(1000) \n",
    "A = rand(1000,1000) \n",
    "\n",
    "\n",
    "b = A*x\n",
    "\n",
    "function f(A,b)\n",
    "    return inv(A)*b\n",
    "end\n",
    "\n",
    "function f1(A,b)\n",
    "    return A\\b\n",
    "end\n",
    "\n",
    "Af=factorize(A)\n",
    "function f2(A,b)\n",
    "    return Af\\b\n",
    "end\n",
    "\n",
    "\n",
    "\n",
    "function dist(A,B)\n",
    "    return sqrt(foldl(+,map(x->x^2,A-B)))\n",
    "end \n",
    "\n",
    "\n",
    "\n",
    "function get_mean(A,b,x,funct)\n",
    "    distances=[]\n",
    "    for i in 1:30\n",
    "        push!(distances,dist(x,funct(A,b)))\n",
    "    end\n",
    "    return mean(distances)\n",
    "end\n",
    "\n",
    "\n",
    "\n",
    "function get_mean_time(A,b,funct)\n",
    "    times=[]\n",
    "    for i in 1:30\n",
    "        push!(times,@elapsed(funct(A,b)))\n",
    "    end\n",
    "    return mean(times)\n",
    "end\n",
    "\n",
    "\n",
    "\n",
    "@printf \"Quality inv(A)*b: %e \\n\" get_mean(A,b,x,f)\n",
    "@printf \"Quality A\\\\b: %e \\n\" get_mean(A,b,x,f1)\n",
    "@printf \"Quality factorize: %e \\n\" get_mean(A,b,x,f2)\n",
    "\n",
    "@printf \"Time inv(A)*b: %e \\n\" get_mean_time(A,b,f)\n",
    "@printf \"Time A\\\\b: %e \\n\" get_mean_time(A,b,f1)\n",
    "@printf \"Time factorize: %e \\n\" get_mean_time(A,b,f2)\n"
   ]
  },
  {
   "cell_type": "code",
   "execution_count": null,
   "metadata": {},
   "outputs": [],
   "source": []
  }
 ],
 "metadata": {
  "kernelspec": {
   "display_name": "Julia 1.1.0",
   "language": "julia",
   "name": "julia-1.1"
  },
  "language_info": {
   "file_extension": ".jl",
   "mimetype": "application/julia",
   "name": "julia",
   "version": "1.1.0"
  }
 },
 "nbformat": 4,
 "nbformat_minor": 2
}
